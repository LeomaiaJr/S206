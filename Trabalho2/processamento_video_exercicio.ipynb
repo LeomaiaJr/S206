{
 "cells": [
  {
   "cell_type": "markdown",
   "id": "7269eacf",
   "metadata": {},
   "source": [
    "# Processamento de Vídeo com MoviePy\n",
    "\n",
    "Leonardo Maia Junior - 229"
   ]
  },
  {
   "cell_type": "code",
   "execution_count": 1,
   "id": "0b265473",
   "metadata": {},
   "outputs": [],
   "source": [
    "from moviepy.editor import *\n",
    "from moviepy.audio.fx.volumex import volumex\n"
   ]
  },
  {
   "cell_type": "code",
   "execution_count": null,
   "id": "7dcbcb2c",
   "metadata": {},
   "outputs": [],
   "source": [
    "video_path = 'leitura.mp4'\n",
    "video = VideoFileClip(video_path)\n",
    "print(f'Duração do: {video.duration} segundos')"
   ]
  },
  {
   "cell_type": "markdown",
   "id": "94a0faf2",
   "metadata": {},
   "source": [
    "1. Inverte a imagem horizontalmente a cada 20 segundos."
   ]
  },
  {
   "cell_type": "code",
   "execution_count": null,
   "id": "7dca1355",
   "metadata": {},
   "outputs": [],
   "source": [
    "clips = []\n",
    "duration = int(video.duration)\n",
    "for i in range(0, duration, 20):\n",
    "    subclip = video.subclip(i, min(i + 20, duration))\n",
    "    if (i // 20) % 2 == 1:  \n",
    "        subclip = subclip.fx(vfx.mirror_x)\n",
    "    clips.append(subclip)\n",
    "\n",
    "invertido = concatenate_videoclips(clips)\n",
    "invertido.write_videofile('invertido.mp4')"
   ]
  },
  {
   "cell_type": "markdown",
   "id": "6079e8c7",
   "metadata": {},
   "source": [
    "2. Reduz o volume de forma gradativa a cada 30 segundos, deixando os últimos 10 segundos em silêncio."
   ]
  },
  {
   "cell_type": "code",
   "execution_count": 1,
   "id": "7e7908d7",
   "metadata": {},
   "outputs": [
    {
     "ename": "NameError",
     "evalue": "name 'VideoFileClip' is not defined",
     "output_type": "error",
     "traceback": [
      "\u001b[0;31m---------------------------------------------------------------------------\u001b[0m",
      "\u001b[0;31mNameError\u001b[0m                                 Traceback (most recent call last)",
      "Cell \u001b[0;32mIn[1], line 1\u001b[0m\n\u001b[0;32m----> 1\u001b[0m video \u001b[38;5;241m=\u001b[39m \u001b[43mVideoFileClip\u001b[49m(\u001b[38;5;124m'\u001b[39m\u001b[38;5;124minvertido.mp4\u001b[39m\u001b[38;5;124m'\u001b[39m)  \n\u001b[1;32m      3\u001b[0m duration \u001b[38;5;241m=\u001b[39m video\u001b[38;5;241m.\u001b[39mduration\n\u001b[1;32m      5\u001b[0m clips \u001b[38;5;241m=\u001b[39m []\n",
      "\u001b[0;31mNameError\u001b[0m: name 'VideoFileClip' is not defined"
     ]
    }
   ],
   "source": [
    "video = VideoFileClip('invertido.mp4')  \n",
    "\n",
    "duration = video.duration\n",
    "\n",
    "clips = []\n",
    "\n",
    "for i in range(0, int(duration), 1):\n",
    "    subclip = video.subclip(i, min(i + 1, duration))\n",
    "    if i < duration - 10:\n",
    "        volume_factor = 1 - (i / (duration - 10))\n",
    "    else:\n",
    "        volume_factor = 0\n",
    "    \n",
    "    subclip = subclip.volumex(volume_factor)\n",
    "    clips.append(subclip)\n",
    "    \n",
    "video_volume = concatenate_videoclips(clips)\n",
    "video_volume.write_videofile('video_volume.mp4', audio=True)"
   ]
  },
  {
   "cell_type": "markdown",
   "id": "b48d1822",
   "metadata": {},
   "source": [
    "\n",
    "3. Corta o vídeo no minuto 1 (segundo 60) até o segundo 80."
   ]
  },
  {
   "cell_type": "code",
   "execution_count": null,
   "id": "5101be37",
   "metadata": {},
   "outputs": [],
   "source": [
    "video = VideoFileClip('video_volume.mp4')\n",
    "\n",
    "video_vinte = concatenate_videoclips([video.subclip(0, 60), video.subclip(80, video.duration)])\n",
    "video_vinte.write_videofile('video_vinte.mp4', audio=True)\n"
   ]
  },
  {
   "cell_type": "markdown",
   "id": "8356a443",
   "metadata": {},
   "source": [
    "4. Insere os 20 segundos cortados ao final do vídeo."
   ]
  },
  {
   "cell_type": "code",
   "execution_count": null,
   "id": "8a3a0b24",
   "metadata": {},
   "outputs": [],
   "source": [
    "video_vinte = VideoFileClip('video_vinte.mp4')\n",
    "video_cut = video.subclip(60, 80)\n",
    "video_final = concatenate_videoclips([video_vinte, video_cut])\n",
    "video_final.write_videofile('final.mp4', audio=True)\n"
   ]
  }
 ],
 "metadata": {
  "kernelspec": {
   "display_name": ".venv",
   "language": "python",
   "name": "python3"
  },
  "language_info": {
   "codemirror_mode": {
    "name": "ipython",
    "version": 3
   },
   "file_extension": ".py",
   "mimetype": "text/x-python",
   "name": "python",
   "nbconvert_exporter": "python",
   "pygments_lexer": "ipython3",
   "version": "3.13.0"
  }
 },
 "nbformat": 4,
 "nbformat_minor": 5
}
